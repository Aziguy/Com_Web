{
 "cells": [
  {
   "cell_type": "markdown",
   "metadata": {},
   "source": [
    "Communiquer sur le web c’est évidemment rédiger du texte, agrémenter d’images, de vidéos ou de sons, référencer mais c’est aussi implanter des hyperliens en mettant en relation des contenus et/ou des organisations. Ainsi le marketing s'appuie sur un positionnement de communication par l'utilisation composée de ces divers éléments (Zabierowski et Ciechanowski, 2016). Identifier la stratégie rémanente à partir de l'analyse de ces éléments s'avère une opération complexe (Pinède 2018, Pinède et al, 2014). Notre position sera de tenter de définir un mode opératoire pour produire une analyse de l'existant. Le point de départ, nécessaire pour la réalisation des choix des critères d'analyse démarre par la restriction à un domaine organisationel particulier tout en rendant transposable la méthodologie à d'autres domaines par l'explicitation des motivations des choix réalisés. Nous fondons notre approche sur une méthodologie propre aux sciences de l'information et de la communication directement inspirée par la bibliométrie : nous focalisons sur la dimension singulière de l'inscription web à travers le lien hypertexte qui, au plan de l'écriture, constitue la possibilité formelle la plus usitée pour établir une citation entre deux entités web.\n",
    "\n",
    "Il n’y a pas de règles établies pour la description des hyperliens entre les sites :\n",
    "la motivation de leur mise en place est aussi variée que les choix terminologiques (Reymond, 2007 ; Thelwall, 2006), toutefois nous pouvons formuler quelques hypothèses contextuelles à notre domaine d’analyse : tourisme et parc national. L’hypothèse naïve est que les acteurs du tourisme utilisent l’image du parc pour leur propre communication. Ce qui suit vise à affiner, vérifier et décrire cette hypothèse. \n",
    "\n",
    "@Tous : j'ai dû faire un blabla sur le PNPC quelquepart. A insérer ici en 3 lignes.\n",
    "# Méthodologie\n",
    "## la zone DNS du PNPC\n",
    "Elle est décomposée en trois sites.\n",
    "[à compléter]\n",
    "\n",
    "## La collecte des liens entrant\n",
    "\n",
    "Pour l'ensemble des zones DNS de l'organisation ciblée nous avons collecté l'ensemble des liens entrants sur chacune de ces zones sur la base de données ahrefs.com dont l'index, à une époque en accès gratuit pour la recherche, contient en Mai 2020 170 000 milliards de lignes (source : https://ahrefs.com/big-data). \n",
    "[à compléter\n",
    "décrire : les données obtenues (la liste des colonnes que l'on envisageait à un moment de mettre dans le graphe résultant) et le nombre de lignes. Un tableau par ex. pour la présentation (et vous veillez à ce que ce soit présentable ^_^)\n",
    "]\n",
    "\n",
    "\n",
    "# Agrégation et préparation de la visualisation\n",
    "\n",
    "Avant de pouvoir effectuer une quelconque opération de traitement pour voir le réseau de nœuds du contexte sur lequel nous vous proposons qui est celui du Parc National de Port-Cros, il est nécessaire de réaliser un traitement des données en passant entre autres par une agrégation de ces dernières.\n",
    "[à compléter] \n",
    "\n",
    "## Agrégation des données\n",
    "La zone éditoriale (définie comme l'ensemble des zone DNS associée à une organisation) nous paraît le niveau d'agrégation le plus pertinent à étudier : celle-ci est composée de pages sous la responsabilité éditoriale du parc dont le contenu doit répondre à ses missions essentielles [@Kouamvi : lesquelles ?]\n",
    "\n",
    "## Filtrage\n",
    "Pour cibler notre analyse nous focaliserons sur les sites ciblant notre organisation étudiée en excluant les citations provenant d'organisations sous la même tutelle (les sites web des autres parc nationaux français) dont la cohésion du réseau d'interrelations web pourrait brouiller les analyses en se constituant comme autoacttracteur dans les représentations de par son poids.\n",
    "\n",
    "## Complétion des données et transformations\n",
    "L'influence territoriale dans le domaine virtuel est souvent arguée, nous produisons une méthode pour associer territoire géographique et site web afin d'identifier des singularités potentielles sur ce plan. Nous nous attendons à ce que au plus l'on se trouve à proximité du parc, au plus la concentration de sites citant le site web du parc augmente.\n",
    "\n",
    "# Au plan technique\n",
    "L'ensemble des traitements sera opéré à l'aide du [langage python](https://www.python.org/), la mise en oeuvre de la présentation (et ce document) sous la forme de [jupyter notebook](https://jupyter.org/). Nous faisons ainsi appel à de nombreuses librairies qui permettent de rapidement mettre en oeuvre un traitement simplifié par l'utilisation de puissantes fonctions complexes masquées par la librairie.\n",
    "\n",
    "## Algorithme du script\n",
    "[@stagiaires: écrire ici sous forme de pseudo code l'algo utilisé]\n",
    "\n",
    "## Détail et description des traitements\n",
    "\n",
    "Afin de pouvoir gérer au mieux, l’ensemble des données dont nous disposons, nous utiliserons un total de trois librairies."
   ]
  },
  {
   "cell_type": "code",
   "execution_count": 1,
   "metadata": {},
   "outputs": [],
   "source": [
    "\"\"\"Entrée 1-1\"\"\"\n",
    "# ************************[ Librairies Utilisées ]************************************************************************************\n",
    "\n",
    "import pandas as pd    #Gestion des Dataframes & Import/ Export Csv\n",
    "from urllib.parse import urlparse #Utilisation de l'option netloc pour filtrer les DNS\n",
    "import networkx as nx #Utilisation pour export du résultat en format Gexf pour visualisation"
   ]
  },
  {
   "cell_type": "markdown",
   "metadata": {},
   "source": [
    "* ``Pandas `` nous permettra de gérer le volume important de données présentes dans les trois fichiers `CSV` que nous avons comme source.\n",
    "* ``Urllib. parse `` nous permettra de filtrer les différentes adresses présentes afin d’en récupérer le nom de domaine uniquement, ce qui nous permet dans la finalité de pouvoir effectuer l’ensemble des opérations que nous avons prévu de réaliser par la suite le plus facilement possible.\n",
    "* ``networkx `` nous permettra d’avoir une prévisualisation du réseau de nœuds représentant les interactions entre les différents acteurs et le Parc National. Cette librairie nous permettra également d’exporter un fichier `Gexf` qui sera utilisé pour la réalisation d’une carte du réseau plus précise et complète. \n",
    "\n",
    "## Les fonctions de ce script\n",
    "\n",
    "L’action principale de ce script sera d’utiliser la fonction Parser afin de récupérer le nom de domaine d’une adresse présente dans nos données."
   ]
  },
  {
   "cell_type": "code",
   "execution_count": 2,
   "metadata": {},
   "outputs": [],
   "source": [
    "\"\"\"Entrée 1-2\"\"\"\n",
    "#************************[ Fonctions Utilisées ]************************************************************************************\n",
    "\n",
    "#On créée une fonction qui va effectuer un netloc (récupération adresse DNS) des adresses présentes dans le document\n",
    "def Parser(Referring_Url):\n",
    "    if Referring_Url == '':\n",
    "        pass\n",
    "    else:\n",
    "        obj = urlparse(Referring_Url)\n",
    "    return obj.netloc"
   ]
  },
  {
   "cell_type": "markdown",
   "metadata": {},
   "source": [
    "## Prétraitement des données\n",
    "\n",
    "Chaque `df(x)` présent dans le script a pour but de charger le contenu des fichiers CSV que nous possédons. Dans notre cas de figure, ceux-ci sont au nombre de trois, et chacun traite un des noms de domaine du Parc National (portcrosparcnational.fr, portcros-parcnational.fr et prod-pnpc.parcnational.fr)\n",
    "\n",
    "Les fichiers sont chargés sous format `utf-16` pour pallier aux problèmes du contenu de ces fichiers, c’est-à-dire la présence de virgules et de points-virgules dans certaines cellules et que nous ne pouvons pas nous permettre de supprimer.\n",
    "\n",
    "Afin de vérifier le bon chargement des données, on effectue un test afin de vérifier la lecture de ces dernières.\n",
    "\n",
    "Pour finir, nous réalisons une fusion des trois fichiers initiaux dans la variable dfappend qui contiendra l’ensemble des données, dans lequel nous créons un nouvel index, car chaque CSV avait son propre index, ce qui pourrait causer des problèmes par la suite.\n"
   ]
  },
  {
   "cell_type": "code",
   "execution_count": 3,
   "metadata": {},
   "outputs": [
    {
     "name": "stdout",
     "output_type": "stream",
     "text": [
      "<class 'pandas.core.frame.DataFrame'>\n",
      "RangeIndex: 7 entries, 0 to 6\n",
      "Columns: 22 entries, # to Linked Domains\n",
      "dtypes: float64(5), int64(9), object(8)\n",
      "memory usage: 1.3+ KB\n",
      "None\n",
      "*****************************************\n",
      "<class 'pandas.core.frame.DataFrame'>\n",
      "RangeIndex: 5 entries, 0 to 4\n",
      "Columns: 25 entries, # to Linked Domains\n",
      "dtypes: float64(5), int64(9), object(11)\n",
      "memory usage: 1.1+ KB\n",
      "None\n",
      "*****************************************\n",
      "<class 'pandas.core.frame.DataFrame'>\n",
      "RangeIndex: 6 entries, 0 to 5\n",
      "Columns: 22 entries, # to Linked Domains\n",
      "dtypes: float64(4), int64(8), object(10)\n",
      "memory usage: 1.2+ KB\n",
      "None\n",
      "*****************************************\n"
     ]
    },
    {
     "data": {
      "text/html": [
       "<div>\n",
       "<style scoped>\n",
       "    .dataframe tbody tr th:only-of-type {\n",
       "        vertical-align: middle;\n",
       "    }\n",
       "\n",
       "    .dataframe tbody tr th {\n",
       "        vertical-align: top;\n",
       "    }\n",
       "\n",
       "    .dataframe thead th {\n",
       "        text-align: right;\n",
       "    }\n",
       "</style>\n",
       "<table border=\"1\" class=\"dataframe\">\n",
       "  <thead>\n",
       "    <tr style=\"text-align: right;\">\n",
       "      <th></th>\n",
       "      <th>#</th>\n",
       "      <th>Domain Rating</th>\n",
       "      <th>URL Rating (desc)</th>\n",
       "      <th>Referring Domains</th>\n",
       "      <th>Referring Page URL</th>\n",
       "      <th>Referring Page Title</th>\n",
       "      <th>Internal Links Count</th>\n",
       "      <th>External Links Count</th>\n",
       "      <th>Link URL</th>\n",
       "      <th>TextPre</th>\n",
       "      <th>...</th>\n",
       "      <th>Last Check</th>\n",
       "      <th>Day Lost</th>\n",
       "      <th>Language</th>\n",
       "      <th>Traffic</th>\n",
       "      <th>Keywords</th>\n",
       "      <th>Js rendered</th>\n",
       "      <th>Linked Domains</th>\n",
       "      <th>Redirect chain (from)</th>\n",
       "      <th>Redirect chain (to)</th>\n",
       "      <th>Redirect type</th>\n",
       "    </tr>\n",
       "  </thead>\n",
       "  <tbody>\n",
       "    <tr>\n",
       "      <th>0</th>\n",
       "      <td>4</td>\n",
       "      <td>55</td>\n",
       "      <td>50</td>\n",
       "      <td>692</td>\n",
       "      <td>http://www.parcsnationaux.fr/fr</td>\n",
       "      <td>Portail des parcs nationaux de France |</td>\n",
       "      <td>121</td>\n",
       "      <td>33</td>\n",
       "      <td>http://www.portcrosparcnational.fr/</td>\n",
       "      <td>NaN</td>\n",
       "      <td>...</td>\n",
       "      <td>22/02/2020 08:31</td>\n",
       "      <td>NaN</td>\n",
       "      <td>fr</td>\n",
       "      <td>1844.0</td>\n",
       "      <td>325</td>\n",
       "      <td>NaN</td>\n",
       "      <td>21</td>\n",
       "      <td>NaN</td>\n",
       "      <td>NaN</td>\n",
       "      <td>NaN</td>\n",
       "    </tr>\n",
       "    <tr>\n",
       "      <th>1</th>\n",
       "      <td>2</td>\n",
       "      <td>21</td>\n",
       "      <td>22</td>\n",
       "      <td>23</td>\n",
       "      <td>http://crbpoinfo.blogspot.com/</td>\n",
       "      <td>crbpoinfo</td>\n",
       "      <td>289</td>\n",
       "      <td>27</td>\n",
       "      <td>http://prod-pnpc.parcnational.fr/fr/rapports-s...</td>\n",
       "      <td>N. Guignard, P. Y. Perroi, C. Moyon, and SCOPS...</td>\n",
       "      <td>...</td>\n",
       "      <td>24/02/2020 13:49</td>\n",
       "      <td>NaN</td>\n",
       "      <td>fr</td>\n",
       "      <td>3.2</td>\n",
       "      <td>1</td>\n",
       "      <td>NaN</td>\n",
       "      <td>8</td>\n",
       "      <td>NaN</td>\n",
       "      <td>NaN</td>\n",
       "      <td>NaN</td>\n",
       "    </tr>\n",
       "  </tbody>\n",
       "</table>\n",
       "<p>2 rows × 25 columns</p>\n",
       "</div>"
      ],
      "text/plain": [
       "   #  Domain Rating  URL Rating (desc)  Referring Domains  \\\n",
       "0  4             55                 50                692   \n",
       "1  2             21                 22                 23   \n",
       "\n",
       "                Referring Page URL                     Referring Page Title  \\\n",
       "0  http://www.parcsnationaux.fr/fr  Portail des parcs nationaux de France |   \n",
       "1   http://crbpoinfo.blogspot.com/                                crbpoinfo   \n",
       "\n",
       "   Internal Links Count  External Links Count  \\\n",
       "0                   121                    33   \n",
       "1                   289                    27   \n",
       "\n",
       "                                            Link URL  \\\n",
       "0                http://www.portcrosparcnational.fr/   \n",
       "1  http://prod-pnpc.parcnational.fr/fr/rapports-s...   \n",
       "\n",
       "                                             TextPre  ...        Last Check  \\\n",
       "0                                                NaN  ...  22/02/2020 08:31   \n",
       "1  N. Guignard, P. Y. Perroi, C. Moyon, and SCOPS...  ...  24/02/2020 13:49   \n",
       "\n",
       "  Day Lost Language  Traffic Keywords Js rendered  Linked Domains  \\\n",
       "0      NaN       fr   1844.0      325         NaN              21   \n",
       "1      NaN       fr      3.2        1         NaN               8   \n",
       "\n",
       "  Redirect chain (from)  Redirect chain (to)  Redirect type  \n",
       "0                   NaN                  NaN            NaN  \n",
       "1                   NaN                  NaN            NaN  \n",
       "\n",
       "[2 rows x 25 columns]"
      ]
     },
     "execution_count": 3,
     "metadata": {},
     "output_type": "execute_result"
    }
   ],
   "source": [
    "\"\"\"Entrée 1-3\"\"\"\n",
    "#************************[ Traitement Initial ]************************************************************************************\n",
    "\n",
    "\n",
    "df0 = pd.read_csv('www.portcrosparcnational.fr-backlinks.csv', encoding='utf-16', sep='\\t') #ouveture de la source 1\n",
    "df1 = pd.read_csv('www.portcros-parcnational.fr-backlinks.csv', encoding='utf-16', sep='\\t') #ouverture de la source 2\n",
    "df2 = pd.read_csv('prod-pnpc.parcnational.fr-backlinks.csv', encoding='utf-16', sep='\\t') #ouverture de la source 3\n",
    "\n",
    "print(df0.info(verbose=False)) #Vérification d'acquisition\n",
    "print('*****************************************')\n",
    "print(df1.info(verbose=False)) #Vérification d'acquisition\n",
    "print('*****************************************')\n",
    "print(df2.info(verbose=False)) #Vérification d'acquisition\n",
    "print('*****************************************')\n",
    "\n",
    "\n",
    "\n",
    "dfappend = df0.append([df1,df2], ignore_index=True) #On créé le contenu dfappend qui est l'ensemble des csv à la suite. La fonction Ignore_index créé un nouvel index qui ne se base pas sur les précédents.\n",
    "dfappend = dfappend[~dfappend['Referring Page URL'].str.contains(\"parcnational.fr\")]\n",
    "dfappend.reset_index(drop=True)\n",
    "\n"
   ]
  },
  {
   "cell_type": "markdown",
   "metadata": {},
   "source": [
    "À partir de ce moment, nous n’utiliserons plus les df(x) pour le traitement des données.\n",
    "\n",
    "\n",
    "## Traitement et agrégation des données\n",
    "\n",
    "\n",
    "Pour commencer le traitement de nos données, nous allons utiliser la variable Parser vue auparavant, afin de pouvoir récupérer dans un premier temps les noms de domaine des acteurs recensés dans nos fichiers. Ces noms de domaines seront stockés dans une nouvelle colonne nommée `DNS Source`.\n",
    "\n",
    "Puis nous allons effectuer la même opération pour déterminer quel nom de domaine est utilisé par ces mêmes acteurs pour utiliser l’image du Parc National de Port Cros.\n",
    "Ce nom de domaine sera stocké dans une nouvelle colonne nommée `DNS Cible`.\n",
    "\n",
    "Enfin, nous allons également préparer pour la visualisation de données une dernière colonne nommée `DNS de Sortie` qui va vérifier le nom de domaine cible, et donner dans une troisième colonne, nommée \"DNS de Sortie\", le nom de domaine sur lequel l’utilisateur arrive après avoir subi une redirection. Cette vérification est effectuée grâce aux connaissances que nous possédons sur le cas présenté."
   ]
  },
  {
   "cell_type": "code",
   "execution_count": 4,
   "metadata": {},
   "outputs": [],
   "source": [
    "\"\"\"Entrée 1-4\"\"\"\n",
    "#************************[ Ajout de Colonnes Dataframe ]************************************************************************************\n",
    "\n",
    "dfappend['DNS Source'] = dfappend['Referring Page URL'].apply(lambda x : Parser(x)) #on créé un netloc de Ref dans dfappend\n",
    "dfappend['DNS Cible'] = dfappend['Link URL'].apply(lambda y : Parser(y))        # On créé un netloc de Link dans dfappend\n",
    "\n",
    "\n",
    "dfappend['DNS de Sortie'] = dfappend['DNS Cible'] #On créé une colonne DNS Sortie qui est la copie de DNS Cible\n",
    "dfappend['DNS de Sortie'].replace(to_replace=[\"www.portcrosparcnational.fr\",\"prod-pnpc.parcnational.fr\"], value=\"www.portcros-parcnational.fr\", inplace=True) #On remplace les DNS servant de redirection par le nom du DNS vers lequel ils redirigent (DNS connu)\n"
   ]
  },
  {
   "cell_type": "markdown",
   "metadata": {},
   "source": [
    "\n",
    "Par la suite nous allons filtrer l’ensemble du fichier dans la variable `Dfmax`.\n",
    "Cette variable a pour but de ne contenir qu’une seule page de chaque acteur présent dans le fichier.\n",
    "Et nous cherchons à ne garder que la page ayant le poids le plus important pour chaque acteur en termes de trafic.\n",
    "\n",
    "Nous allons donc filtrer avec le Nom de Domaine récupéré précédemment récupéré conjointement à la colonne `Traffic`.\n",
    "\n",
    "Dans certains cas, certaines pages peuvent avoir la même valeur de trafic, dans ce cas et pour ne pas fausser notre compte nous allons supprimer les doublons."
   ]
  },
  {
   "cell_type": "code",
   "execution_count": 5,
   "metadata": {},
   "outputs": [
    {
     "name": "stdout",
     "output_type": "stream",
     "text": [
      "<class 'pandas.core.frame.DataFrame'>\n",
      "Int64Index: 2 entries, 3 to 13\n",
      "Columns: 28 entries, # to DNS de Sortie\n",
      "dtypes: float64(4), int64(8), object(16)\n",
      "memory usage: 464.0+ bytes\n",
      "None\n"
     ]
    }
   ],
   "source": [
    "\"\"\"Entrée 1-5\"\"\"\n",
    "#************************[ Filtrage d'occurence : variable dfmax ]************************************************************************************\n",
    "\n",
    "idx = dfappend.groupby(['DNS Source'])['Traffic'].transform(max) == dfappend['Traffic'] #A partir de la colonne 'DNS Source' nous recherchons l'occurence ayant la plus haute valeur par rapport à la valeur de Traffic\n",
    "dfmax =dfappend[idx]\n",
    "dfmax.drop_duplicates('DNS Source', inplace=True)\n",
    "print(dfmax.info(verbose=False))"
   ]
  },
  {
   "cell_type": "markdown",
   "metadata": {},
   "source": [
    "Comme vous pourrez le constater, nous passons d’un tableau possédant plus de 280 000 références, à un tableau possédant uniquement 1368 références.\n",
    "\n",
    "Nous nous sommes donc posé la question suivante : quelle est la fréquence d’utilisation de liens renvoyant aux noms de domaine du Parc National de Port Cros pour chaque acteur ?\n",
    "\n",
    "Nous avons donc créé un compteur d’occurrences.\n",
    "\n",
    "Pour cela, nous avons initié la variable `NodeRef`, qui contient le contenu de la colonne \"DNS Source\", que nous avons réindexé par la suite, pour posséder un index des adresses DNS de nos acteurs, ce qui va nous permettre d’utiliser la fonction Value_Counts() de la librairie Pandas.\n",
    "\n",
    "Cette dernière va créer une nouvelle liste ou ne sera présent qu’une seule fois chaque Nom de Domaine des différents acteurs, et compter le nombre de fois que ce dernier est présent."
   ]
  },
  {
   "cell_type": "code",
   "execution_count": 6,
   "metadata": {
    "scrolled": true
   },
   "outputs": [
    {
     "name": "stdout",
     "output_type": "stream",
     "text": [
      "               DNS Source  Occurences\n",
      "0   www.parcsnationaux.fr           1\n",
      "1  crbpoinfo.blogspot.com           1\n"
     ]
    }
   ],
   "source": [
    "\"\"\"Entrée 1-6\"\"\"\n",
    "#************************[ Compteur d'occurences ]************************************************************************************\n",
    "\n",
    "NodeRef = dfappend['DNS Source'] # Création d'une liste comportant les différents DNS du CSV\n",
    "\n",
    "NodeIndex= pd.Index(NodeRef) #On créée un index des DNS avec Panda\n",
    "\n",
    "NodeCount = NodeIndex.value_counts().reset_index() #On compte le nombre de fois que chaque DNS est présent dans la liste (Value_Count) et on attribue un numéro à chaque DNS (reset_index)\n",
    "\n",
    "NodeCount.columns = ['DNS Source', 'Occurences'] #On renomme les colonnes de manière à ce qu'il soit possible de comprendre leur correspondance\n",
    "\n",
    "print(NodeCount) #Vérification d'acquisition\n",
    "\n",
    "Agreg = pd.merge(NodeCount, dfmax, on='DNS Source', how='outer') #On fusionne les deux tableaux (NodeCount, dfmax) à partir de la colonne DNS Source présente au sein des deux\n"
   ]
  },
  {
   "cell_type": "markdown",
   "metadata": {},
   "source": [
    "Nous pouvons constater sur l’ensemble des appels aux Noms de Domaines relevés, plus de 83 000 proviennent du site www.bandol-blog.com. C’est-à-dire plus de 29 % des appels de la liste. Nous constatons également que plus de 21 % des appels détectés proviennent du site du Parc National. Il s’agit entre autres, des liens entre les différentes pages du Parc.\n",
    "\n",
    "Pour notre visualisation de données, ce rendu n’est pas suffisant.\n",
    "Nous allons donc le fusionner avec la fonction merge de Pandas avec la variable dfmax précédemment créée. Cela nous permettra d’avoir un exemple de page pour chaque Acteur, tout en connaissant le poids de l’acteur dans notre visualisation grâce aux occurrences constatées.\n",
    "\n",
    "Le contenu sera enregistré dans la variable `Agreg`.\n",
    "\n",
    "## Restitution et prévisualisation des données\n",
    "\n",
    "\n",
    "Le traitement principal de nos données étant complet, nous allons exporter ces dernières pour les scripts qui seront utilisés par la suite.\n"
   ]
  },
  {
   "cell_type": "code",
   "execution_count": 7,
   "metadata": {},
   "outputs": [],
   "source": [
    "\"\"\"Entrée 1-7\"\"\"\n",
    "#************************[ Restitution des données ]************************************************************************************\n",
    "\n",
    "Agreg.to_csv('agregation_reseau.csv' ,encoding='utf-16', sep=\"\\t\") #Fichier de sortie correspondant aux valeurs les plus \"fortes\" du réseau. (Pour la partie 1)\n",
    "\n",
    "NodeCount.to_csv('Index_reseau.csv' ,encoding='utf-16', sep=\"\\t\") # Index de tous les sites utilisant le réseau sélectionné. Sert de base pour la géolocalisation des différentes entreprises (Pour la partie 2 et 3)\n",
    "\n",
    "dfappend.to_csv('Appended.csv' , encoding='utf-16', sep=\"\\t\") #Fichier comprenant l'ensemble des données sans filtre. Sera utilisé pour l'acquisition de contexte (Pour la partie 3)\n"
   ]
  },
  {
   "cell_type": "markdown",
   "metadata": {},
   "source": [
    "Nous créons un total de trois nouveaux fichiers CSV.\n",
    "* Le premier, `agregation_reseau.csv` contient le contenu de la variable `Agreg`. Il s’agit d’un fichier nous permettant de voir le résultat souhaité de notre traitement des données.\n",
    "* Le second, `Index_reseau.csv` contient l’index de tous les acteurs utilisant les noms de domaine du Parc national. Grâce à ce dernier, nous allons pouvoir géoréférencer les acteurs et les marquer sur une carte.\n",
    "* Le troisième, `Appended.csv` contient l’ensemble des données des trois fichiers initiaux, plus le traitement que nous avons effectué sur les adresses présentes sur les fichiers. Cela nous permettra lorsque nous souhaiterons récupérer le contexte de l’appel au nom de domaine du Parc de ne pas avoir à effectuer un nouveau traitement des données.\n",
    "\n",
    "\n",
    "En plus de ces trois CSV, nous allons également créer un fichier utilisable par le logiciel Gephy pour créer une visualisation détaillée du réseau numérique gravitant autour du Parc National.\n",
    "\n",
    "### Prévisualisation des données\n",
    "\n",
    "Nous allons donc convertir la variable Agreg, grâce à la librairie networkx en déterminant les nœuds du réseau. Nous lui expliquons grâce aux lignes de code ci-dessous que la colonne `DNS Source` contient les acteurs pointant vers le Parc.\n",
    "La Colonne `DNS de Sortie` contient le Nom de Domaine vers lequel chaque acteur renvoie au travers du lien placé dans ses pages.\n",
    "Enfin, la colonne `occurence` permet d’avoir un poids pour chaque lien.\n"
   ]
  },
  {
   "cell_type": "code",
   "execution_count": 8,
   "metadata": {},
   "outputs": [
    {
     "data": {
      "image/png": "[encoded data removed]",
      "text/plain": [
       "<Figure size 432x288 with 1 Axes>"
      ]
     },
     "metadata": {},
     "output_type": "display_data"
    }
   ],
   "source": [
    "\"\"\"Entrée 1-8\"\"\"\n",
    "#************************[ Visualisation de données ]************************************************************************************\n",
    "\n",
    "G = nx.from_pandas_edgelist(Agreg,'DNS Source','DNS de Sortie','Occurences') #On créée une variable G qui comporte une edgelist pour Panda\n",
    "nx.draw(G, with_labels=True) #On effectue un essai pour voir si la variable est lisible en format graph\n",
    "nx.write_gexf(G,\"Agregation.gexf\") #On exporte la variable G en format gexf sous le nom \"Agrégation.gexf\""
   ]
  },
  {
   "cell_type": "markdown",
   "metadata": {},
   "source": [
    "Par la suite, nous avons utilisé la fonction draw de ``networkx `` afin de vérifier si gephy serait en mesure de comprendre ce que nous avons déterminé. Comme on peut le constater ci-dessus, il est difficile de lire ce qui ressort de cette prévisualisation, car l’ensemble des noms sont superposés. Cependant, nous avons la confirmation que la variable a bien été établie ; dans le cas contraire, nous aurions eu un message d’erreur.\n",
    "\n",
    "Nous pouvons donc exporter la variable au travers du fichier `Agregation.gexf`.\n",
    "\n",
    "\n",
    "Avant de passer à la partie suivante, nous allons nettoyer le registre de l’application afin d’alléger la mémoire de cette dernière et éviter d’éventuels conflits par la suite :\n"
   ]
  },
  {
   "cell_type": "code",
   "execution_count": 9,
   "metadata": {},
   "outputs": [
    {
     "name": "stdout",
     "output_type": "stream",
     "text": [
      "Variable    Type         Data/Info\n",
      "----------------------------------\n",
      "Agreg       DataFrame                           DN<...>\\n\\n[8 rows x 29 columns]\n",
      "G           Graph        \n",
      "NodeCount   DataFrame                           DN<...>.blogspot.com           1\n",
      "NodeIndex   Index        Index(['www.mercantour-pa<...>ject', name='DNS Source')\n",
      "NodeRef     Series       0     www.mercantour-parc<...>DNS Source, dtype: object\n",
      "Parser      function     <function Parser at 0x0000020E2FEE48B8>\n",
      "df0         DataFrame       #  Domain Rating  URL <...>\\n\\n[7 rows x 22 columns]\n",
      "df1         DataFrame       #  Domain Rating  URL <...>\\n\\n[5 rows x 25 columns]\n",
      "df2         DataFrame       #  Domain Rating  URL <...>\\n\\n[6 rows x 22 columns]\n",
      "dfappend    DataFrame        #  Domain Rating  URL<...>n\\n[18 rows x 28 columns]\n",
      "dfmax       DataFrame        #  Domain Rating  URL<...>\\n\\n[8 rows x 28 columns]\n",
      "idx         Series       0      True\\n1      True\\<...>ame: Traffic, dtype: bool\n",
      "nx          module       <module 'networkx' from '<...>\\\\networkx\\\\__init__.py'>\n",
      "pd          module       <module 'pandas' from 'C:<...>es\\\\pandas\\\\__init__.py'>\n",
      "urlparse    function     <function urlparse at 0x0000020E2DF02A68>\n"
     ]
    }
   ],
   "source": [
    "whos"
   ]
  },
  {
   "cell_type": "markdown",
   "metadata": {},
   "source": []
  },
  {
   "cell_type": "code",
   "execution_count": 11,
   "metadata": {},
   "outputs": [
    {
     "name": "stdout",
     "output_type": "stream",
     "text": [
      "Interactive namespace is empty.\n"
     ]
    }
   ],
   "source": []
  }
 ],
 "metadata": {
  "celltoolbar": "Format de la Cellule Texte Brut",
  "kernelspec": {
   "display_name": "Python 3",
   "language": "python",
   "name": "python3"
  },
  "language_info": {
   "codemirror_mode": {
    "name": "ipython",
    "version": 3
   },
   "file_extension": ".py",
   "mimetype": "text/x-python",
   "name": "python",
   "nbconvert_exporter": "python",
   "pygments_lexer": "ipython3",
   "version": "3.7.6"
  }
 },
 "nbformat": 4,
 "nbformat_minor": 4
}
