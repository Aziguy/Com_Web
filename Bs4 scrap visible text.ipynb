{
 "cells": [
  {
   "cell_type": "code",
   "execution_count": 1,
   "metadata": {},
   "outputs": [],
   "source": [
    "from bs4 import BeautifulSoup\n",
    "from bs4.element import Comment\n",
    "import urllib.request"
   ]
  },
  {
   "cell_type": "code",
   "execution_count": 2,
   "metadata": {},
   "outputs": [],
   "source": [
    "def tag_visible(element):\n",
    "    if element.parent.name in ['style', 'script', 'head', 'title', 'meta', '[document]']:\n",
    "        return False\n",
    "    if isinstance(element, Comment):\n",
    "        return False\n",
    "    return True"
   ]
  },
  {
   "cell_type": "code",
   "execution_count": 3,
   "metadata": {},
   "outputs": [],
   "source": [
    "def text_from_html(body):\n",
    "    soup = BeautifulSoup(body, 'html.parser')\n",
    "    texts = soup.findAll(text=True)\n",
    "    visible_texts = filter(tag_visible, texts)  \n",
    "    return u\" \".join(t.strip() for t in visible_texts)"
   ]
  },
  {
   "cell_type": "code",
   "execution_count": 4,
   "metadata": {},
   "outputs": [
    {
     "name": "stdout",
     "output_type": "stream",
     "text": [
      "    Aller au contenu principal                Toggle navigation       Le Parc national de Port-Cros  Le Parc national en bref   L'établissement public   La réglementation   La charte   Nos mécènes   Marchés publics   Offres d'emploi   Recueil des actes administratifs            Toggle navigation      Les parcs nationaux de France Parc national de la Vanoise  Parc national de Port-Cros  Parc national des Pyrénées  Parc national des Cévennes  Parc national des Ecrins  Parc national du Mercantour  Parc national de la Guadeloupe  Parc amazonien de Guyane  Parc national de La Réunion  Parc national des Calanques  Parc national de Forêts  Portail des parcs nationaux de France  Agence française pour la biodiversité                                Parc national de Port-Cros et Porquerolles            Des découvertes Faites de rencontres & d'émotions          Une destination d'exception         Les trois îles    Le littoral    La mer et les fonds marins    Des découvertes en toutes saisons                 S'informer         Les maisons de Parc national    Les offices de tourisme    Le Parc national sur les réseaux sociaux    Informations en cas de risques naturels                 Séjourner         Venir dans le Parc national de Port-Cros    Accessibilité    Offre de découverte    Les hébergements    Les séjours    Les ports    Les mouillages et équipements légers                 La réglementation         Réglementation en mer    Réglementation survol    Réglementation à terre                  Des connaissances Au service de la nature & des hommes          Patrimoine naturel         La faune    La flore    La gestion et la protection des espèces animales et végétales                 Patrimoine culturel         Forts et batteries    Personnages célèbres    Parcs et jardins    Les épaves                 L’acquisition et la diffusion des connaissances         Le parc national, territoire de recherche    Le centre de documentation et d'archives    Les expositions    La photothèque    Les suivis scientifiques    L'acquisition des données                  Des actions Au côté des acteurs du Parc national          Protéger et préserver         Coopérer    Natura 2000    Préserver le ciel et l'environnement nocturne    PELAGOS                 Eduquer, sensibiliser et former         Réseau d'acteurs partenaires    Mobilisation citoyenne    Un parcours éducatif pour les scolaires                 Accompagner le développement durable du territoire         Un tourisme durable    La gestion forestière et l'agriculture    Les projets d'insertion    Les projets européens    Marque Esprit parc national                              Chercher dans ce site     OK                Vivre la nature ...           Photo : © Catherine Drouard - Parc national de Port-Cros              ... autrement           Photo : © Thomas Abiven - Parc national de Port-Cros              Se ressourcer           Photo : © Catherine Drouard - Parc national de Port-Cros              Se laisser surprendre           Photo : © Déclic Bleu Méditerranée - Parc national de Port-Cros              Partager           Photo : © Franck Alary - Parc national de Port-Cros              Comprendre           Photo : © Christel Gérardin - Parc national de Port-Cros                      A la une    toutes les actualités                © M. Gasquy        Découvrez l'île de Porquerolles, ses patrimoines et le parc national de Port-Cros, grâce aux POINTS RENCONTRE (balade      12.06.2020      Les POINTS RENCONTRE de Porquerolles      Lire la suite                © Manon Lasson PNPC        29.05.2020      La ZMEL de Bagaud dans la rade de Port-Cros est opérationnelle      Lire la suite                ©  GUANAES L.        La résidence artistique \"(Re)générations\" au cap Lardier sur le post-incendie de la photographe franco-brésilienne, L      28.05.2020      Rêve de nature au cap Lardier      Lire la suite                ©  GASQUY.M        Accès aux plages      25.05.2020      Conditions d’accès en période de déconfinement progressif, à Port-Cros et Porquerolles      Lire la suite                  © C. Jomard        Par arrêté préfectoral n° 84/20 du 20 mai 2020, les interdictions des activités de plongée dans une bande de 500 mètr      21.05.2020      LA PLONGÉE EN SCAPHANDRE DE NOUVEAU AUTORISEE      Lire la suite                © Ch. Gerardin - Port-Cros        Ouverture des sentiers :      20.05.2020      Informations sur les conditions d’accès en période de déconfinement progressif  à Port-Cros et Porquerolles, à partir du 11 mai      Lire la suite                © GERARDIN Ch.        Le 18 mai 2020, la Préfecture Maritime a pris un nouvel arrêté N° 071 / 2020 pour réglementer la navigation de plaisa      18.05.2020      Nouvel arrêté préfectoral pour la navigation de plaisance et les activités maritimes      Lire la suite                © P. desgraupes        Même confinés, notre regard sur l’extérieur peut être empreint de poésie, d’humour, d’espoir et de lumière.      23.04.2020      Rejoignez le mouvement !      Lire la suite                      Pendant le confinement, les agents du parc national de Port-Cros continuent la surveillance des sites placés sous leu      21.04.2020      Continuité du service : un confinement au grand air      Lire la suite                © Lionel Roux        Entre visible et invisible      06.04.2020      L'attitude mer n°27 vient de paraître      Lire la suite                       Brèves             16.03.2020      Inquiétudes sur la course à l'argent et la surfréquentation de Porquerolles               09.03.2020      Présentation de la Marque Parc aux professionnels de la plongée               04.03.2020      Le Parc national vous invite à découvrir la forêt de Porquerolles !               04.03.2020      Bientôt une ZMEL à Bagaud !               02.03.2020      BIENVENUE À FRANÇOIS VICTOR, NOUVEAU DIRECTEUR ADJOINT DU PARC                          AGENDA    Tout l'agenda                        Visite guidée et/ou commentée      L'expérience viticole: Visite du Domaine de la Navicelle : domaine en Biodynamie       Le Pradet      17 juin                Visite guidée et/ou commentée      Observation des oiseaux au Salin des Pesquiers avec la LPO       Hyères      18 juin                Visite guidée et/ou commentée      Visite Oenoludique d’un domaine viticole ( domaine de la Navicelle) en Biodynamie       Le Pradet      23 juin                Conférence / Débat / Rencontre  Visite guidée et/ou commentée  Séance / Projection cinéma      Point Rencontre Porquerolles 2020       Hyères      16 juin                Visite guidée et/ou commentée      A la recherche du Trésor des Templiers (visite guidée spécial enfants)       Hyères      07 juil                                 ×  Message d'erreur  Notice : Undefined index: HTTP_ACCEPT in Mobile_Detect->__construct() (line 97 of /var/virtual_www/pnf/mutweb/prod2/www/web/sites/all/modules/contrib/context_mobile_detect/library/mobile_detect.php ).    Dossiers    tous les dossiers                ©        Le Parc national de Port-Cros en bref      Lire la suite                  ©        Balades hivernales      Lire la suite                      Le Parc national mode d’emploi      Lire la suite                                                        Scientific reports  Videos  Documents  Espace Presse              Le Parc national de Port-Cros   Le Parc national en bref   L'établissement public   La réglementation   La charte   Nos mécènes   Marchés publics   Offres d'emploi   Recueil des actes administratifs                Contactez-nous      Parc national de Port-Cros 181 Allée du Castel Sainte Claire BP 70220 83406 - HYERES cedex  Tél. 04 94 12 82 30       Envoyer un email                       Suivez-nous           Mentions légales                Toggle navigation      Actualités  Médiathèque  Agenda  Cartothèque  Photothèque  Scientific Reports  Boutique en ligne  Soutenez le parc               Rechercher       Des découvertes Une destination d'exception Les trois îles Le littoral La mer et les fonds marins Des découvertes en toutes saisons S'informer Les maisons de Parc national Les offices de tourisme Le Parc national sur les réseaux sociaux Informations en cas de risques naturels Séjourner Venir dans le Parc national de Port-Cros Accessibilité Offre de découverte Les hébergements Les séjours Les ports Les mouillages et équipements légers La réglementation Réglementation en mer Réglementation survol Réglementation à terre Des connaissances Patrimoine naturel La faune La flore La gestion et la protection des espèces animales et végétales Patrimoine culturel Forts et batteries Personnages célèbres Parcs et jardins Les épaves L’acquisition et la diffusion des connaissances Le parc national, territoire de recherche Le centre de documentation et d'archives Les expositions La photothèque L'acquisition des données Les suivis scientifiques Des actions Protéger et préserver Coopérer Natura 2000 Préserver le ciel et l'environnement nocturne PELAGOS Eduquer, sensibiliser et former Mobilisation citoyenne Réseau d'acteurs partenaires Un parcours éducatif pour les scolaires Accompagner le développement durable du territoire Un tourisme durable La gestion forestière et l'agriculture Les projets d'insertion Les projets européens Marque Esprit parc national  Le Parc national de Port-Cros Le Parc national en bref L'établissement public La réglementation La charte Nos mécènes Marchés publics Offres d'emploi Recueil des actes administratifs  News Media Agenda Cartothèque Photothèque Scientific Reports Boutique en ligne Soutenez le parc  Les parcs nationaux de France Parc national de la Vanoise Parc national de Port-Cros Parc national des Pyrénées Parc national des Cévennes Parc national des Ecrins Parc national du Mercantour Parc national de la Guadeloupe Parc amazonien de Guyane Parc national de La Réunion Parc national des Calanques Parc national de Forêts Portail des parcs nationaux de France Agence française pour la biodiversité         \n"
     ]
    }
   ],
   "source": [
    "html = urllib.request.urlopen('http://www.portcros-parcnational.fr/fr').read()\n",
    "print(text_from_html(html))"
   ]
  },
  {
   "cell_type": "code",
   "execution_count": null,
   "metadata": {},
   "outputs": [],
   "source": []
  }
 ],
 "metadata": {
  "kernelspec": {
   "display_name": "Python 3",
   "language": "python",
   "name": "python3"
  },
  "language_info": {
   "codemirror_mode": {
    "name": "ipython",
    "version": 3
   },
   "file_extension": ".py",
   "mimetype": "text/x-python",
   "name": "python",
   "nbconvert_exporter": "python",
   "pygments_lexer": "ipython3",
   "version": "3.7.6"
  }
 },
 "nbformat": 4,
 "nbformat_minor": 4
}
