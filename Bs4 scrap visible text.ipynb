{
 "cells": [
  {
   "cell_type": "code",
   "execution_count": 1,
   "metadata": {},
   "outputs": [],
   "source": [
    "from bs4 import BeautifulSoup\n",
    "from bs4.element import Comment\n",
    "import urllib.request"
   ]
  },
  {
   "cell_type": "code",
   "execution_count": 2,
   "metadata": {},
   "outputs": [],
   "source": [
    "def tag_visible(element):\n",
    "    if element.parent.name in ['style', 'script', 'head', 'title', 'meta', '[document]']:\n",
    "        return False\n",
    "    if isinstance(element, Comment):\n",
    "        return False\n",
    "    return True"
   ]
  },
  {
   "cell_type": "code",
   "execution_count": 3,
   "metadata": {},
   "outputs": [],
   "source": [
    "def text_from_html(body):\n",
    "    soup = BeautifulSoup(body, 'html.parser')\n",
    "    texts = soup.findAll(text=True)\n",
    "    visible_texts = filter(tag_visible, texts)  \n",
    "    return u\" \".join(t.strip() for t in visible_texts)"
   ]
  },
  {
   "cell_type": "code",
   "execution_count": 6,
   "metadata": {},
   "outputs": [
    {
     "name": "stdout",
     "output_type": "stream",
     "text": [
      "       IDENTIFIEZ-VOUS :    Email :      Mot de passe :    >> Créer un compte       Marques    Apple    Aqua Lung    Aquasphere    Cressi Sub    FINIS    H2O    Head    Ironman    Kikoy    Mares    Mayo Parasol    Nike    ripcurl    Speedo    Turbo    Tyr      Corner Bébé    Serviette    Vêtements    Jeux pour enfant    Protection      Corner Enfant    Combinaison de Natation    Brassard    Palmes    Masque et tuba    Lunette    Bonnet    Vêtements    Maillot de bain      Pack    Entrainement Enfant    Entrainement en Piscine    Association et Club      Equipements    Chausson    Cagoule de Natation    Planche d'entrainement    Combinaison    Palmes    Tuba    Electronique    Masque de Natation    Masque de Plongée    Bonnet    Lunette Natation    Gant    Maillot de bain    Sac de sport    Serviette    Arbalette    Protection                         chausson nouméa  Cressi Sub   chaussure cressi de plage, piscine, très confortable et souple. S'utilise aussi pour l'aquagym, l'aquastep. Fabrication et design italien.  >> Catégorie Chausson    16 €  10,45 €  Aqualike vous fait économiser : 35 %               Lunette Futura ice plus 6 ans  Speedo   lunette de natation, Speedo Natation enfants 6 ans avec confort (traitement anti buée) et sécurité (monture flexible) renforcés.  >> Catégorie Lunette    15 €  11,9 €  Aqualike vous fait économiser : 21 %               Lunette natation competion  Speedo   lunettes de natation Speedo pour nageur intensif  : technicité, qualité des matières, satisfaction des nageurs. Aqualike la recommande pour l'entrainement, la compétition.  >> Catégorie Lunette Natation    39,99 €  30,5 €  Aqualike vous fait économiser : 24 %               Lunette Rapide junior dès 4 ans  Speedo   lunette de natation de Speedo Natation enfant  dès 4 ans comporte un \"nez \" flexible ainsi qu'un traitement anti-buée. LIVRAISON OFFERTE  >> Catégorie Lunette    14,99 €  11 €  Aqualike vous fait économiser : 27 %          Votre panier est vide ... !     >> Infos livraison  >> Modalités de paiement  >> Engagements de sécurité  Pour nous contacter 06 31 11 54 06        A Corps et accord (+ infos) Créé en 1987 par Alain BEYLIER, l'association  « A CORPS ET ACCORD » est l'une des plus réputés de Rhône Alpes dans le domaine de l'aquaphobie (lutte contre la peur de l'eau).    Découvrez vos piscines, vos clubs, vos cours - associations de France, de Monaco et du Luxembourg et aussi vos voyages sur AQUALIKE INFOS  BIENTOT - Dédié aux besoins des professionnels et des handicapés      Pour plus d'informations, adressez-vous à Aqualike :    Votre e-mail :  Votre nom :    Votre message :     >> Voir l'historique des conversations  Modalités de paiement :  Vous pouvez régler vos achats par carte bancaire ou par chèque. Votre paiement ne sera encaissé qu’au départ de votre colis de notre plateforme logistique.  Cartes bancaires acceptées par Paypal       Contactez nous |  A propos d'Aqua Like |  Infos livraison |  Engagements Aqualike    Engagements de Sécurité |  5 bonnes raisons de commander |  Service après vente |  Conditions générales de vente |  Conditions particulières d'utilisation      Marques  Apple  Aqua Lung  Aquasphere  Cressi Sub  FINIS  H2O  Head  Ironman  Kikoy  Mares  Mayo Parasol  Nike  ripcurl  Speedo  Turbo  Tyr   Corner Bébé   Serviette  Vêtements  Jeux pour enfant  Protection    Corner Enfant   Combinaison de Natation  Brassard  Palmes  Masque et tuba  Lunette  Bonnet  Vêtements  Maillot de bain    Pack   Entrainement Enfant  Entrainement en Piscine  Association et Club    Equipements   Chausson  Cagoule de Natation  Planche d'entrainement  Combinaison  Palmes  Tuba  Electronique  Masque de Natation  Masque de Plongée  Bonnet  Lunette Natation  Gant  Maillot de bain  Sac de sport  Serviette  Arbalette  Protection   Copyright © 2007, Aqualike. All rights reserved - Développement Vincent Cogne - Design Anne Berland\n"
     ]
    }
   ],
   "source": [
    "html = urllib.request.urlopen('http://www.aqualike.com').read()\n",
    "print(text_from_html(html))"
   ]
  },
  {
   "cell_type": "code",
   "execution_count": null,
   "metadata": {},
   "outputs": [],
   "source": []
  }
 ],
 "metadata": {
  "kernelspec": {
   "display_name": "Python 3",
   "language": "python",
   "name": "python3"
  },
  "language_info": {
   "codemirror_mode": {
    "name": "ipython",
    "version": 3
   },
   "file_extension": ".py",
   "mimetype": "text/x-python",
   "name": "python",
   "nbconvert_exporter": "python",
   "pygments_lexer": "ipython3",
   "version": "3.7.6"
  }
 },
 "nbformat": 4,
 "nbformat_minor": 4
}
